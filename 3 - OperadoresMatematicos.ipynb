{
 "cells": [
  {
   "cell_type": "code",
   "execution_count": 1,
   "id": "d1cda997-35ec-4426-99d0-267f7dcbfdd0",
   "metadata": {},
   "outputs": [
    {
     "name": "stdout",
     "output_type": "stream",
     "text": [
      "False\n"
     ]
    }
   ],
   "source": [
    "print(\"hello\" > \"world\")"
   ]
  },
  {
   "cell_type": "code",
   "execution_count": 2,
   "id": "d3ac8e2e-8efd-4c04-9601-c9fb9a9db8a4",
   "metadata": {},
   "outputs": [
    {
     "name": "stdout",
     "output_type": "stream",
     "text": [
      "hello\n"
     ]
    },
    {
     "data": {
      "text/plain": [
       "False"
      ]
     },
     "execution_count": 2,
     "metadata": {},
     "output_type": "execute_result"
    }
   ],
   "source": [
    " print (\"hello\") == (\"world\")"
   ]
  },
  {
   "cell_type": "code",
   "execution_count": 3,
   "id": "8ad81f12-7132-4d4a-b646-394e9844ec69",
   "metadata": {},
   "outputs": [
    {
     "name": "stdout",
     "output_type": "stream",
     "text": [
      "False\n"
     ]
    }
   ],
   "source": [
    "print (\"hello\" == \"world\")"
   ]
  },
  {
   "cell_type": "code",
   "execution_count": null,
   "id": "ccb5d657-8d73-46c9-9073-a7e8b7db9da1",
   "metadata": {},
   "outputs": [],
   "source": []
  }
 ],
 "metadata": {
  "kernelspec": {
   "display_name": "Python 3 (ipykernel)",
   "language": "python",
   "name": "python3"
  },
  "language_info": {
   "codemirror_mode": {
    "name": "ipython",
    "version": 3
   },
   "file_extension": ".py",
   "mimetype": "text/x-python",
   "name": "python",
   "nbconvert_exporter": "python",
   "pygments_lexer": "ipython3",
   "version": "3.11.7"
  }
 },
 "nbformat": 4,
 "nbformat_minor": 5
}
