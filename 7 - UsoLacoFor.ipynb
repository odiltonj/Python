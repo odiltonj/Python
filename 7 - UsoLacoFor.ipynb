{
 "cells": [
  {
   "cell_type": "code",
   "execution_count": 4,
   "id": "73b96d3f-7014-4584-8723-d1c956fc029c",
   "metadata": {},
   "outputs": [
    {
     "name": "stdout",
     "output_type": "stream",
     "text": [
      "0\n",
      "1\n",
      "2\n",
      "3\n",
      "4\n"
     ]
    }
   ],
   "source": [
    "for i in range(5):\n",
    "    print(i)"
   ]
  },
  {
   "cell_type": "code",
   "execution_count": 6,
   "id": "53507fe2-25e8-4585-8b57-3d500eddc109",
   "metadata": {},
   "outputs": [
    {
     "name": "stdout",
     "output_type": "stream",
     "text": [
      "5\n"
     ]
    }
   ],
   "source": [
    "a = 0 \n",
    "for i in range(5):\n",
    "    a= a+1\n",
    "print(a)"
   ]
  },
  {
   "cell_type": "code",
   "execution_count": 10,
   "id": "dae6ad9c-0424-456b-940b-d8abde608e35",
   "metadata": {},
   "outputs": [
    {
     "name": "stdout",
     "output_type": "stream",
     "text": [
      "frase\n",
      "frase\n",
      "frase\n",
      "frase\n",
      "frase\n",
      "frase\n",
      "frase\n",
      "frase\n",
      "frase\n",
      "frase\n"
     ]
    }
   ],
   "source": [
    "a = 0 \n",
    "b = 10\n",
    "for i in range (b):\n",
    "    print ('frase')"
   ]
  },
  {
   "cell_type": "code",
   "execution_count": 1,
   "id": "5a28d9ce-cfc2-4df1-a0af-3ee3909648a7",
   "metadata": {},
   "outputs": [
    {
     "name": "stdout",
     "output_type": "stream",
     "text": [
      "Ainda não deu\n",
      "Ainda não deu\n",
      "Ainda não deu\n",
      "Ainda não deu\n"
     ]
    },
    {
     "ename": "KeyboardInterrupt",
     "evalue": "",
     "output_type": "error",
     "traceback": [
      "\u001b[1;31m---------------------------------------------------------------------------\u001b[0m",
      "\u001b[1;31mKeyboardInterrupt\u001b[0m                         Traceback (most recent call last)",
      "Cell \u001b[1;32mIn[1], line 6\u001b[0m\n\u001b[0;32m      4\u001b[0m     \u001b[38;5;28mprint\u001b[39m(\u001b[38;5;124m'\u001b[39m\u001b[38;5;124mAinda não deu\u001b[39m\u001b[38;5;124m'\u001b[39m)   \n\u001b[0;32m      5\u001b[0m     contador \u001b[38;5;241m=\u001b[39m contador \u001b[38;5;241m+\u001b[39m \u001b[38;5;241m1\u001b[39m\n\u001b[1;32m----> 6\u001b[0m     time\u001b[38;5;241m.\u001b[39msleep(\u001b[38;5;241m1\u001b[39m)\n\u001b[0;32m      7\u001b[0m \u001b[38;5;28mprint\u001b[39m(\u001b[38;5;124m'\u001b[39m\u001b[38;5;124mAgora deu\u001b[39m\u001b[38;5;124m'\u001b[39m)\n",
      "\u001b[1;31mKeyboardInterrupt\u001b[0m: "
     ]
    }
   ],
   "source": [
    "import time\n",
    "contador = 0\n",
    "while contador < 10:\n",
    "    print('Ainda não deu')   \n",
    "    contador = contador + 1\n",
    "    time.sleep(1)\n",
    "print('Agora deu')"
   ]
  },
  {
   "cell_type": "code",
   "execution_count": 2,
   "id": "ec26b45c-fe4b-4615-9f72-e49184f1ee76",
   "metadata": {},
   "outputs": [
    {
     "name": "stdin",
     "output_type": "stream",
     "text": [
      "Digite o numero para calcular o fatorial: 3\n"
     ]
    },
    {
     "name": "stdout",
     "output_type": "stream",
     "text": [
      "6\n"
     ]
    }
   ],
   "source": [
    "contador = 2\n",
    "fatorial = int(input('Digite o numero para calcular o fatorial:'))\n",
    "while contador < fatorial:\n",
    "    contador = contador + 1\n",
    "    resultado = fatorial * (contador -1)\n",
    "    print(resultado)"
   ]
  },
  {
   "cell_type": "code",
   "execution_count": 2,
   "id": "807a5721-84bb-4886-b064-2791c40476a1",
   "metadata": {},
   "outputs": [
    {
     "name": "stdin",
     "output_type": "stream",
     "text": [
      "Digite um número para fatorar:  149\n"
     ]
    },
    {
     "name": "stdout",
     "output_type": "stream",
     "text": [
      "A fatoração de 149 é: 149\n"
     ]
    }
   ],
   "source": [
    "def fatoracao(num):\n",
    "    fatores = []\n",
    "    divisor = 2\n",
    "\n",
    "    while num > 1:\n",
    "        while num % divisor == 0:\n",
    "            fatores.append(divisor)\n",
    "            num //= divisor\n",
    "        divisor += 1\n",
    "\n",
    "    return fatores\n",
    "\n",
    "numero = int(input(\"Digite um número para fatorar: \"))\n",
    "resultado = fatoracao(numero)\n",
    "\n",
    "print(f\"A fatoração de {numero} é: {' * '.join(map(str, resultado))}\")"
   ]
  },
  {
   "cell_type": "code",
   "execution_count": null,
   "id": "ab7f08d8-9550-44e4-9cd8-a4a131738504",
   "metadata": {},
   "outputs": [],
   "source": []
  }
 ],
 "metadata": {
  "kernelspec": {
   "display_name": "Python 3 (ipykernel)",
   "language": "python",
   "name": "python3"
  },
  "language_info": {
   "codemirror_mode": {
    "name": "ipython",
    "version": 3
   },
   "file_extension": ".py",
   "mimetype": "text/x-python",
   "name": "python",
   "nbconvert_exporter": "python",
   "pygments_lexer": "ipython3",
   "version": "3.11.7"
  }
 },
 "nbformat": 4,
 "nbformat_minor": 5
}
