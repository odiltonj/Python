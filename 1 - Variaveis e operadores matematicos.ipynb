{
 "cells": [
  {
   "cell_type": "code",
   "execution_count": 1,
   "id": "618b9026",
   "metadata": {},
   "outputs": [
    {
     "name": "stdout",
     "output_type": "stream",
     "text": [
      "3\n"
     ]
    }
   ],
   "source": [
    "var = 2\n",
    "var2 = 1 \n",
    "\n",
    "var3 = var + var2\n",
    "\n",
    "print(var3);"
   ]
  },
  {
   "cell_type": "code",
   "execution_count": 2,
   "id": "2530be6d",
   "metadata": {},
   "outputs": [
    {
     "name": "stdout",
     "output_type": "stream",
     "text": [
      "3\n"
     ]
    }
   ],
   "source": [
    "var = 2\n",
    "var2 = 1 \n",
    "\n",
    "sum = var + var2\n",
    "\n",
    "print(sum);"
   ]
  },
  {
   "cell_type": "code",
   "execution_count": 4,
   "id": "0fb08fe1",
   "metadata": {},
   "outputs": [
    {
     "name": "stdout",
     "output_type": "stream",
     "text": [
      "3\n"
     ]
    }
   ],
   "source": [
    "var = 2\n",
    "var2 = 1 \n",
    "\n",
    "var3 == var\n",
    "\n",
    "\n",
    "\n",
    "print(var3);"
   ]
  },
  {
   "cell_type": "code",
   "execution_count": 5,
   "id": "4b8a4280",
   "metadata": {},
   "outputs": [
    {
     "name": "stdout",
     "output_type": "stream",
     "text": [
      "3\n"
     ]
    }
   ],
   "source": [
    "var = 2\n",
    "var2 = 1 \n",
    "\n",
    "var3 == var\n",
    "\n",
    "\n",
    "\n",
    "print(var3);"
   ]
  },
  {
   "cell_type": "code",
   "execution_count": null,
   "id": "b3fa736f",
   "metadata": {},
   "outputs": [],
   "source": []
  }
 ],
 "metadata": {
  "kernelspec": {
   "display_name": "Python 3 (ipykernel)",
   "language": "python",
   "name": "python3"
  },
  "language_info": {
   "codemirror_mode": {
    "name": "ipython",
    "version": 3
   },
   "file_extension": ".py",
   "mimetype": "text/x-python",
   "name": "python",
   "nbconvert_exporter": "python",
   "pygments_lexer": "ipython3",
   "version": "3.10.9"
  }
 },
 "nbformat": 4,
 "nbformat_minor": 5
}
