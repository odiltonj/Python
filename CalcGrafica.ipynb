{
 "cells": [
  {
   "cell_type": "code",
   "execution_count": 2,
   "id": "93cd34cd-f1d3-47a2-b234-3dfba99d380e",
   "metadata": {},
   "outputs": [
    {
     "name": "stdout",
     "output_type": "stream",
     "text": [
      "Escolha uma figura geométrica para plotar:\n",
      "1. Círculo\n",
      "2. Retângulo\n"
     ]
    },
    {
     "name": "stdin",
     "output_type": "stream",
     "text": [
      "Digite 1 ou 2:  2\n",
      "Digite a largura do retângulo:  1\n",
      "Digite a altura do retângulo:  1\n"
     ]
    },
    {
     "data": {
      "image/png": "[encoded data removed]",
      "text/plain": [
       "<Figure size 640x480 with 1 Axes>"
      ]
     },
     "metadata": {},
     "output_type": "display_data"
    }
   ],
   "source": [
    "import matplotlib.pyplot as plt\n",
    "import numpy as np\n",
    "\n",
    "def plot_circulo(raio):\n",
    "    theta = np.linspace(0, 2 * np.pi, 100)\n",
    "    x = raio * np.cos(theta)\n",
    "    y = raio * np.sin(theta)\n",
    "    plt.plot(x, y)\n",
    "    plt.fill(x, y, alpha=0.3)\n",
    "    plt.title(f\"Círculo com raio {raio}\")\n",
    "    plt.axis('equal')\n",
    "\n",
    "def plot_retangulo(largura, altura):\n",
    "    x = [0, largura, largura, 0, 0]\n",
    "    y = [0, 0, altura, altura, 0]\n",
    "    plt.plot(x, y)\n",
    "    plt.fill(x, y, alpha=0.3)\n",
    "    plt.title(f\"Retângulo {largura}x{altura}\")\n",
    "\n",
    "def main():\n",
    "    print(\"Escolha uma figura geométrica para plotar:\")\n",
    "    print(\"1. Círculo\")\n",
    "    print(\"2. Retângulo\")\n",
    "    escolha = input(\"Digite 1 ou 2: \")\n",
    "\n",
    "    if escolha == '1':\n",
    "        raio = float(input(\"Digite o raio do círculo: \"))\n",
    "        plot_circulo(raio)\n",
    "    elif escolha == '2':\n",
    "        largura = float(input(\"Digite a largura do retângulo: \"))\n",
    "        altura = float(input(\"Digite a altura do retângulo: \"))\n",
    "        plot_retangulo(largura, altura)\n",
    "    else:\n",
    "        print(\"Escolha inválida!\")\n",
    "\n",
    "    plt.xlabel(\"Eixo X\")\n",
    "    plt.ylabel(\"Eixo Y\")\n",
    "    plt.grid()\n",
    "    plt.axis('equal')\n",
    "    plt.show()\n",
    "\n",
    "if __name__ == \"__main__\":\n",
    "    main()\n"
   ]
  },
  {
   "cell_type": "code",
   "execution_count": null,
   "id": "b0822fe6-bdfb-48d1-ae37-b6fb24c1d5d8",
   "metadata": {},
   "outputs": [],
   "source": []
  }
 ],
 "metadata": {
  "kernelspec": {
   "display_name": "Python 3 (ipykernel)",
   "language": "python",
   "name": "python3"
  },
  "language_info": {
   "codemirror_mode": {
    "name": "ipython",
    "version": 3
   },
   "file_extension": ".py",
   "mimetype": "text/x-python",
   "name": "python",
   "nbconvert_exporter": "python",
   "pygments_lexer": "ipython3",
   "version": "3.11.7"
  }
 },
 "nbformat": 4,
 "nbformat_minor": 5
}
