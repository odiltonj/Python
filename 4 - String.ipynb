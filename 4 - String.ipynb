{
 "cells": [
  {
   "cell_type": "code",
   "execution_count": 5,
   "id": "eac2396f-d94d-4345-8365-9c681999489f",
   "metadata": {},
   "outputs": [
    {
     "name": "stdin",
     "output_type": "stream",
     "text": [
      "Digite a sua fruta preferida: goiaba\n"
     ]
    },
    {
     "name": "stdout",
     "output_type": "stream",
     "text": [
      "goiaba é sua fruta preferida\n"
     ]
    }
   ],
   "source": [
    "fruta = str(input('Digite a sua fruta preferida:'))\n",
    "\n",
    "print ('%s é sua fruta preferida' %fruta)"
   ]
  },
  {
   "cell_type": "code",
   "execution_count": null,
   "id": "f8d9df0d-eaaf-4ce3-9de4-e202f3c1b718",
   "metadata": {},
   "outputs": [],
   "source": []
  }
 ],
 "metadata": {
  "kernelspec": {
   "display_name": "Python 3 (ipykernel)",
   "language": "python",
   "name": "python3"
  },
  "language_info": {
   "codemirror_mode": {
    "name": "ipython",
    "version": 3
   },
   "file_extension": ".py",
   "mimetype": "text/x-python",
   "name": "python",
   "nbconvert_exporter": "python",
   "pygments_lexer": "ipython3",
   "version": "3.11.7"
  }
 },
 "nbformat": 4,
 "nbformat_minor": 5
}
