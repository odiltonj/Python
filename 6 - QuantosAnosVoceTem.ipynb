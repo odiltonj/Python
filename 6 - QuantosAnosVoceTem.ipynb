{
 "cells": [
  {
   "cell_type": "code",
   "execution_count": 10,
   "id": "7ba166ec-8bae-4a78-afe3-b6c5ade27048",
   "metadata": {},
   "outputs": [
    {
     "name": "stdin",
     "output_type": "stream",
     "text": [
      "Digite o seu ano de nascimento: 1992\n"
     ]
    },
    {
     "name": "stdout",
     "output_type": "stream",
     "text": [
      "Você nasceu no ano de: 1992\n",
      "Você tem 32 anos\n",
      "Você ja é adulto\n"
     ]
    }
   ],
   "source": [
    "anoNasc = int(input(\"Digite o seu ano de nascimento:\"))\n",
    "print ('Você nasceu no ano de: %d' %anoNasc)\n",
    "idade = 2024 - anoNasc\n",
    "print(\"Você tem %d anos\" %idade)\n",
    "if (idade>=18):\n",
    "    print(\"Você ja é adulto\")\n",
    "else:\n",
    "    print(\"Você não é adulto\")"
   ]
  },
  {
   "cell_type": "code",
   "execution_count": null,
   "id": "8b9a62a3-08b1-4ed2-9d04-377518d3619c",
   "metadata": {},
   "outputs": [],
   "source": []
  }
 ],
 "metadata": {
  "kernelspec": {
   "display_name": "Python 3 (ipykernel)",
   "language": "python",
   "name": "python3"
  },
  "language_info": {
   "codemirror_mode": {
    "name": "ipython",
    "version": 3
   },
   "file_extension": ".py",
   "mimetype": "text/x-python",
   "name": "python",
   "nbconvert_exporter": "python",
   "pygments_lexer": "ipython3",
   "version": "3.11.7"
  }
 },
 "nbformat": 4,
 "nbformat_minor": 5
}
