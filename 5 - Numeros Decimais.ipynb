{
 "cells": [
  {
   "cell_type": "code",
   "execution_count": 1,
   "id": "89e293ed-e8e7-4a31-9498-616a464ab922",
   "metadata": {},
   "outputs": [
    {
     "name": "stdout",
     "output_type": "stream",
     "text": [
      "1.6666666666666667\n"
     ]
    }
   ],
   "source": [
    "conta = 5/3\n",
    "print(conta)"
   ]
  },
  {
   "cell_type": "code",
   "execution_count": 3,
   "id": "2e08c257-6dbd-4000-bbe0-fdf85ffc2fdc",
   "metadata": {},
   "outputs": [
    {
     "name": "stdout",
     "output_type": "stream",
     "text": [
      "O resultado da conta é 1.6666666666666667\n"
     ]
    }
   ],
   "source": [
    "print('O resultado da conta é {}' .format(conta))"
   ]
  },
  {
   "cell_type": "code",
   "execution_count": 4,
   "id": "b7961e60-7af7-4a3d-ab68-ac8bb419a7a9",
   "metadata": {},
   "outputs": [
    {
     "name": "stdout",
     "output_type": "stream",
     "text": [
      "O resultado da conta é 1.67\n"
     ]
    }
   ],
   "source": [
    "print('O resultado da conta é {:.2f}' .format(conta))"
   ]
  },
  {
   "cell_type": "code",
   "execution_count": null,
   "id": "8b73f91f-a7e6-4790-bf15-af806687413e",
   "metadata": {},
   "outputs": [],
   "source": []
  }
 ],
 "metadata": {
  "kernelspec": {
   "display_name": "Python 3 (ipykernel)",
   "language": "python",
   "name": "python3"
  },
  "language_info": {
   "codemirror_mode": {
    "name": "ipython",
    "version": 3
   },
   "file_extension": ".py",
   "mimetype": "text/x-python",
   "name": "python",
   "nbconvert_exporter": "python",
   "pygments_lexer": "ipython3",
   "version": "3.11.7"
  }
 },
 "nbformat": 4,
 "nbformat_minor": 5
}
